{
  "nbformat": 4,
  "nbformat_minor": 0,
  "metadata": {
    "kernelspec": {
      "display_name": "Python 3",
      "language": "python",
      "name": "python3"
    },
    "language_info": {
      "codemirror_mode": {
        "name": "ipython",
        "version": 3
      },
      "file_extension": ".py",
      "mimetype": "text/x-python",
      "name": "python",
      "nbconvert_exporter": "python",
      "pygments_lexer": "ipython3",
      "version": "3.8.5"
    },
    "colab": {
      "name": "Final Project.ipynb",
      "provenance": [],
      "collapsed_sections": []
    }
  },
  "cells": [
    {
      "cell_type": "markdown",
      "metadata": {
        "id": "4bE9FrVY2y7z"
      },
      "source": [
        "## Description\n",
        "\n",
        "Expresso is an African telecommunications company that provides customers with airtime and mobile data bundles. The objective of this challenge is to develop a machine learning model to predict the likelihood of each Expresso customer “churning,” i.e. becoming inactive and not making any transactions for 90 days.\n",
        "\n",
        "This solution will help Expresso to better serve their customers by understanding which customers are at risk of leaving."
      ]
    },
    {
      "cell_type": "markdown",
      "metadata": {
        "id": "DaPqsk0l2y8B"
      },
      "source": [
        "#### Variables definitions:\n",
        "- user id\n",
        "- REGION - the location of each client\n",
        "- TENURE - duration in the network\n",
        "- MONTANT - top-up amount\n",
        "- FREQUENCE_RECH - number of times the customer refilled\n",
        "- REVENUE - monthly income of each client\n",
        "- ARPU_SEGMENT - income over 90 days / 3\n",
        "- FREQUENCE - number of times the client has made an income\n",
        "- DATA_VOLUME - number of connections\n",
        "- ON_NET - inter expresso call\n",
        "- ORANGE - call to orange\n",
        "- TIGO - call to Tigo\n",
        "- ZONE1 - call to zones1\n",
        "- ZONE2 - call to zones2\n",
        "- MRG - a client who is going\n",
        "- REGULARITY - number of times the client is active for 90 days\n",
        "- TOP_PACK\t - the most active packs\n",
        "- FREQ_TOP_PACK- number of times the client  has activated the top pack packages\n",
        "- CHURN - variable to predict - Target"
      ]
    },
    {
      "cell_type": "code",
      "metadata": {
        "id": "G9M61PzJ2y8H"
      },
      "source": [
        "import pandas as pd\n",
        "import numpy as np\n",
        "import matplotlib.pyplot as plt\n",
        "import seaborn as sns "
      ],
      "execution_count": 154,
      "outputs": []
    },
    {
      "cell_type": "code",
      "metadata": {
        "id": "QAg36UHJ2y8P"
      },
      "source": [
        "data_train = pd.read_csv('Train.csv')\n",
        "#data_test = pd.read_csv('Test.csv')"
      ],
      "execution_count": null,
      "outputs": []
    },
    {
      "cell_type": "code",
      "metadata": {
        "id": "6oze2CtPYuKz"
      },
      "source": [
        "data_train.shape"
      ],
      "execution_count": null,
      "outputs": []
    },
    {
      "cell_type": "code",
      "metadata": {
        "id": "HEKjLh4_jAoE"
      },
      "source": [
        "data_train.columns"
      ],
      "execution_count": null,
      "outputs": []
    },
    {
      "cell_type": "code",
      "metadata": {
        "id": "zUDtvU5jYw0R"
      },
      "source": [
        "#data_test.shape"
      ],
      "execution_count": null,
      "outputs": []
    },
    {
      "cell_type": "code",
      "metadata": {
        "id": "pkIadDY82y8R"
      },
      "source": [
        "data_train.head()"
      ],
      "execution_count": null,
      "outputs": []
    },
    {
      "cell_type": "code",
      "metadata": {
        "id": "7pGrPJK42y8U"
      },
      "source": [
        "data_train.count()"
      ],
      "execution_count": null,
      "outputs": []
    },
    {
      "cell_type": "code",
      "metadata": {
        "id": "LUotZmhdi6vG"
      },
      "source": [
        "col = ['REGION', 'MONTANT', 'FREQUENCE_RECH', 'REVENUE',\n",
        "       'ARPU_SEGMENT', 'FREQUENCE', 'DATA_VOLUME', 'ON_NET', 'ORANGE', 'TIGO',\n",
        "       'ZONE1', 'ZONE2', 'TOP_PACK'] \n",
        "\n",
        "for i in col:\n",
        "   if i == 'REGION':\n",
        "     cond = data_train[i].isna()\n",
        "     mask = data_train[cond]\n",
        "   else:\n",
        "     cond = mask[i].isna()\n",
        "     mask = mask[cond]  \n",
        "\n",
        "mask.head()"
      ],
      "execution_count": null,
      "outputs": []
    },
    {
      "cell_type": "code",
      "metadata": {
        "id": "XVzWs4uGmTxk"
      },
      "source": [
        "mask.count()"
      ],
      "execution_count": null,
      "outputs": []
    },
    {
      "cell_type": "code",
      "metadata": {
        "id": "wNHn_4YImxnq"
      },
      "source": [
        "mask['CHURN'].value_counts()"
      ],
      "execution_count": null,
      "outputs": []
    },
    {
      "cell_type": "code",
      "metadata": {
        "id": "_ziW1RXfHpZs"
      },
      "source": [
        "data_train.describe()"
      ],
      "execution_count": null,
      "outputs": []
    },
    {
      "cell_type": "markdown",
      "metadata": {
        "id": "oS_xsctU-32K"
      },
      "source": [
        "### REGION"
      ]
    },
    {
      "cell_type": "code",
      "metadata": {
        "id": "2oRYXlA-9ejQ"
      },
      "source": [
        "data_train['REGION'].unique()"
      ],
      "execution_count": null,
      "outputs": []
    },
    {
      "cell_type": "code",
      "metadata": {
        "id": "vCsrAFceB4R9"
      },
      "source": [
        "sns.histplot(data=data_train['REGION'], bins=14)\n",
        "plt.xticks(rotation=90)"
      ],
      "execution_count": null,
      "outputs": []
    },
    {
      "cell_type": "markdown",
      "metadata": {
        "id": "-P5pUowiB6lE"
      },
      "source": [
        "### TENURE"
      ]
    },
    {
      "cell_type": "code",
      "metadata": {
        "id": "UQj5WGjg9b2D"
      },
      "source": [
        "data_train['TENURE'].value_counts()"
      ],
      "execution_count": null,
      "outputs": []
    },
    {
      "cell_type": "code",
      "metadata": {
        "id": "8U3InBAbZU5f"
      },
      "source": [
        "sns.histplot(data=data_train['TENURE'], bins=14)\n",
        "plt.xticks(rotation=90)"
      ],
      "execution_count": null,
      "outputs": []
    },
    {
      "cell_type": "markdown",
      "metadata": {
        "id": "DyswfcG7MC0f"
      },
      "source": [
        "### MONTANT, FREQUENCE_RECH"
      ]
    },
    {
      "cell_type": "code",
      "metadata": {
        "id": "vFcPys64BvRf"
      },
      "source": [
        "sns.pairplot(data_train, \n",
        "             vars = ['MONTANT', 'FREQUENCE_RECH', 'REGULARITY'],\n",
        "             hue = 'CHURN',\n",
        "             kind = 'scatter',\n",
        "             plot_kws=dict(alpha=0.3))"
      ],
      "execution_count": null,
      "outputs": []
    },
    {
      "cell_type": "markdown",
      "metadata": {
        "id": "qW_4nN45MNSy"
      },
      "source": [
        "### REVENUE, ARPU_SEGMENT, FREQUENCE"
      ]
    },
    {
      "cell_type": "code",
      "metadata": {
        "id": "XCmQy3rMLRv8"
      },
      "source": [
        "sns.pairplot(data_train, \n",
        "             vars = ['REVENUE', 'ARPU_SEGMENT', 'FREQUENCE', 'REGULARITY'],\n",
        "             hue = 'CHURN',\n",
        "             kind = 'scatter',\n",
        "             plot_kws=dict(alpha=0.3))"
      ],
      "execution_count": null,
      "outputs": []
    },
    {
      "cell_type": "markdown",
      "metadata": {
        "id": "uCuhKpPCdyh_"
      },
      "source": [
        "### DATA_VOLUME"
      ]
    },
    {
      "cell_type": "markdown",
      "metadata": {
        "id": "u0PxQWnEN1uD"
      },
      "source": [
        "### MRG"
      ]
    },
    {
      "cell_type": "code",
      "metadata": {
        "id": "dLfniHNWN4mI"
      },
      "source": [
        "print(data_train['MRG'].nunique(), data_test['MRG'].nunique())"
      ],
      "execution_count": null,
      "outputs": []
    },
    {
      "cell_type": "code",
      "metadata": {
        "id": "XFLQ7wzgOTZ0"
      },
      "source": [
        "# we can  drop MRG column both in train and test sets\n",
        "\n",
        "data_train.drop(['MRG'], axis = 1, inplace=True)\n",
        "data_test.drop(['MRG'], axis = 1, inplace=True)"
      ],
      "execution_count": null,
      "outputs": []
    },
    {
      "cell_type": "markdown",
      "metadata": {
        "id": "KXHEQNX1Q6Jd"
      },
      "source": [
        "### REGULARITY"
      ]
    },
    {
      "cell_type": "code",
      "metadata": {
        "id": "_mzBKgN6RB43"
      },
      "source": [
        "# What is the regularity distribution?\n",
        "\n",
        "sns.histplot(data=data_train['REGULARITY'], bins=(data_train['REGULARITY'].max()))"
      ],
      "execution_count": null,
      "outputs": []
    },
    {
      "cell_type": "code",
      "metadata": {
        "id": "0wa59V3_bx4F"
      },
      "source": [
        "# What is the regularity of those who became inactive?\n",
        "\n",
        "data_train.groupby(['CHURN'])['REGULARITY'].mean()"
      ],
      "execution_count": null,
      "outputs": []
    },
    {
      "cell_type": "code",
      "metadata": {
        "id": "FhW1EnNCSLe1"
      },
      "source": [
        "# How often on average users with different favorite package use the service? \n",
        "\n",
        "data_train.groupby(['TOP_PACK'])['REGULARITY'].mean().sort_values(ascending = False).head(15)"
      ],
      "execution_count": null,
      "outputs": []
    },
    {
      "cell_type": "markdown",
      "metadata": {
        "id": "RPwh-wThFkHD"
      },
      "source": [
        "### TOP_PACK"
      ]
    },
    {
      "cell_type": "code",
      "metadata": {
        "id": "6FTwNwaOGXGn"
      },
      "source": [
        "data_train['TOP_PACK'].value_counts().nunique()"
      ],
      "execution_count": null,
      "outputs": []
    },
    {
      "cell_type": "code",
      "metadata": {
        "id": "RKZ8MbfdFiXr"
      },
      "source": [
        "# TOP 20 packs\n",
        "data_train['TOP_PACK'].value_counts().head(20)"
      ],
      "execution_count": null,
      "outputs": []
    },
    {
      "cell_type": "code",
      "metadata": {
        "id": "TqSlsWkqF0lh"
      },
      "source": [
        "# Users with which favorite packages became inactive?\n",
        "\n",
        "data_train.groupby(['CHURN'])['TOP_PACK'].value_counts()"
      ],
      "execution_count": null,
      "outputs": []
    },
    {
      "cell_type": "code",
      "metadata": {
        "id": "A1oQEyZ2O73a"
      },
      "source": [
        ""
      ],
      "execution_count": null,
      "outputs": []
    }
  ]
}